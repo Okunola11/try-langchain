{
 "cells": [
  {
   "cell_type": "code",
   "execution_count": 1,
   "id": "131817dc-f905-4bdc-bce9-4ba420224a74",
   "metadata": {},
   "outputs": [],
   "source": [
    "from settings import OPEN_API_KEY"
   ]
  },
  {
   "cell_type": "code",
   "execution_count": null,
   "id": "e7f1b63d-66a7-4013-93da-062a93ed05f5",
   "metadata": {
    "scrolled": true
   },
   "outputs": [],
   "source": []
  }
 ],
 "metadata": {
  "kernelspec": {
   "display_name": "Python 3 (ipykernel)",
   "language": "python",
   "name": "python3"
  },
  "language_info": {
   "codemirror_mode": {
    "name": "ipython",
    "version": 3
   },
   "file_extension": ".py",
   "mimetype": "text/x-python",
   "name": "python",
   "nbconvert_exporter": "python",
   "pygments_lexer": "ipython3",
   "version": "3.12.4"
  }
 },
 "nbformat": 4,
 "nbformat_minor": 5
}
